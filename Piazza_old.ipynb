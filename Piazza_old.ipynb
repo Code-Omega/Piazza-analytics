{
 "cells": [
  {
   "cell_type": "code",
   "execution_count": 1,
   "metadata": {
    "collapsed": false,
    "deletable": true,
    "editable": true
   },
   "outputs": [],
   "source": [
    "from piazza_api.rpc import PiazzaRPC\n",
    "from datetime import datetime\n",
    "import time\n",
    "\n",
    "import numpy as np\n",
    "import seaborn as sns\n",
    "import matplotlib as mpl\n",
    "import matplotlib.pyplot as plt\n",
    "\n",
    "import scipy.stats as stats"
   ]
  },
  {
   "cell_type": "code",
   "execution_count": 80,
   "metadata": {
    "collapsed": false,
    "deletable": true,
    "editable": true
   },
   "outputs": [],
   "source": [
    "#p = PiazzaRPC(classcode) # course\n",
    "#p.user_login(username, password) # login"
   ]
  },
  {
   "cell_type": "code",
   "execution_count": 4,
   "metadata": {
    "collapsed": true,
    "deletable": true,
    "editable": true
   },
   "outputs": [],
   "source": [
    "def to_time(t): \n",
    "    # convert to unix timestamp (in seconds)\n",
    "    fmt = '%Y-%m-%dT%H:%M:%SZ'\n",
    "    return time.mktime((datetime.strptime(t, fmt)).timetuple())"
   ]
  },
  {
   "cell_type": "code",
   "execution_count": 5,
   "metadata": {
    "collapsed": true,
    "deletable": true,
    "editable": true
   },
   "outputs": [],
   "source": [
    "def diff_time_minute(t1, t2):\n",
    "    # subtract and then divide by 60 to get difference minutes.\n",
    "    return int(abs(t1-t2))/60"
   ]
  },
  {
   "cell_type": "markdown",
   "metadata": {
    "deletable": true,
    "editable": true
   },
   "source": [
    "## Get data (for individual post)\n",
    "1st round:\n",
    "1. check if is a question (type : question)\n",
    "2. check if fits requested tag (if given one)\n",
    "3. check creation time\n",
    "4. check if answered\n",
    "5. check time for each answer\n",
    "\n",
    "2nd round\n",
    "6. return [creation time, student answer time, instructor answer time]\n",
    "  "
   ]
  },
  {
   "cell_type": "code",
   "execution_count": 54,
   "metadata": {
    "collapsed": false,
    "deletable": true,
    "editable": true
   },
   "outputs": [],
   "source": [
    "def get_timing(cid,tag = None):\n",
    "    try:\n",
    "        if (p.content_get(cid)[\"type\"] != \"question\"):\n",
    "            return None # if not a question, ignore\n",
    "        if (tag is not None):\n",
    "            if(tag not in p.content_get(cid)[\"tags\"]):\n",
    "                return None # if does not meet the requested tag, ignore\n",
    "            \n",
    "        c_time = to_time(p.content_get(cid)['created']) # time thread is created\n",
    "        #print(cid)\n",
    "        #print(p.content_get(cid)[\"history\"][0]['created'])\n",
    "        s_time = -1 # time thread is resolved by student, -1 if never\n",
    "        i_time = -1 # time thread is resolved by instructor, -1 if never\n",
    "        for x in p.content_get(cid)[\"children\"]:\n",
    "            if (x[\"type\"]==\"s_answer\"):\n",
    "                s_time = to_time(x['created'])\n",
    "                #if (x[\"type\"]==\"s_answer\" and x[\"tag_endorse\"] != []):\n",
    "                #    print(\"\\tendorsed\")\n",
    "                #print(\"\\twith latency:\")\n",
    "                #print(\"\\t\\t\"+str(diff_time(t_c, x['created']))+\" minutes\")\n",
    "            if (x[\"type\"]==\"i_answer\"):\n",
    "                i_time = to_time(x['created'])\n",
    "        return [c_time,s_time,i_time]\n",
    "    except:\n",
    "        pass # if post does not exist, ignore"
   ]
  },
  {
   "cell_type": "markdown",
   "metadata": {
    "deletable": true,
    "editable": true
   },
   "source": [
    "## Get data (in batch)"
   ]
  },
  {
   "cell_type": "code",
   "execution_count": 55,
   "metadata": {
    "collapsed": false,
    "deletable": true,
    "editable": true
   },
   "outputs": [
    {
     "name": "stdout",
     "output_type": "stream",
     "text": [
      "41\n",
      "2017-02-01T16:16:24Z\n",
      "0.0\n",
      "50\n",
      "2017-02-05T06:14:24Z\n",
      "309480.0\n",
      "58\n",
      "2017-02-07T20:11:05Z\n",
      "223001.0\n",
      "59\n",
      "2017-02-07T23:05:03Z\n",
      "10438.0\n",
      "60\n",
      "2017-02-08T06:45:45Z\n",
      "27642.0\n",
      "67\n",
      "2017-02-09T03:55:42Z\n",
      "76197.0\n",
      "71\n",
      "2017-02-10T17:26:25Z\n",
      "135027.0\n",
      "73\n",
      "2017-02-10T23:01:37Z\n",
      "20128.0\n",
      "74\n",
      "2017-02-11T01:38:32Z\n",
      "9415.0\n",
      "77\n",
      "2017-02-12T22:18:06Z\n",
      "160774.0\n",
      "78\n",
      "2017-02-12T22:34:00Z\n",
      "954.0\n",
      "80\n",
      "2017-02-13T05:10:23Z\n",
      "23783.0\n",
      "82\n",
      "2017-02-13T15:35:25Z\n",
      "37502.0\n",
      "86\n",
      "2017-02-14T02:28:50Z\n",
      "39163.0\n",
      "87\n",
      "2017-02-14T03:49:56Z\n",
      "4908.0\n",
      "88\n",
      "2017-02-14T03:59:39Z\n",
      "583.0\n",
      "89\n",
      "2017-02-14T06:24:15Z\n",
      "8676.0\n",
      "90\n",
      "2017-02-14T06:34:23Z\n",
      "608.0\n",
      "94\n",
      "2017-02-14T22:24:36Z\n",
      "57013.0\n",
      "96\n",
      "2017-02-14T23:32:39Z\n",
      "3528.0\n",
      "97\n",
      "2017-02-15T00:25:55Z\n",
      "3751.0\n",
      "98\n",
      "2017-02-15T01:55:37Z\n",
      "5382.0\n",
      "100\n",
      "2017-02-15T08:34:23Z\n",
      "20911.0\n",
      "101\n",
      "2017-02-15T07:47:02Z\n",
      "174.0\n",
      "106\n",
      "2017-02-15T21:22:31Z\n",
      "48929.0\n",
      "108\n",
      "2017-02-15T23:22:45Z\n",
      "7214.0\n",
      "113\n",
      "2017-02-28T05:39:25Z\n",
      "77357.0\n",
      "118\n",
      "2017-02-17T05:50:42Z\n",
      "32320.0\n",
      "132\n",
      "2017-02-20T00:13:47Z\n",
      "238985.0\n",
      "134\n",
      "2017-02-20T01:54:02Z\n",
      "6015.0\n",
      "196\n",
      "2017-02-23T20:45:26Z\n",
      "327084.0\n",
      "--- 67.08622479438782 seconds ---\n",
      "\n"
     ]
    }
   ],
   "source": [
    "idx_start = 1\n",
    "idx_end = 200\n",
    "tag = 'hw1'\n",
    "\n",
    "t_c_arr = []\n",
    "t_last = 0\n",
    "\n",
    "start_time = time.time()\n",
    "\n",
    "for i in range(idx_start,idx_end):\n",
    "    t_cur = get_timing(i,tag)\n",
    "    if (t_cur != None):\n",
    "        if (t_last == 0):\n",
    "            t_last = t_cur[0]\n",
    "        t_c_arr.append(t_cur[0]-t_last)\n",
    "        print(t_cur[0]-t_last)\n",
    "        t_last = t_cur[0]\n",
    "\n",
    "print(\"--- %s seconds ---\\n\" % (time.time() - start_time))"
   ]
  },
  {
   "cell_type": "code",
   "execution_count": 56,
   "metadata": {
    "collapsed": false,
    "deletable": true,
    "editable": true
   },
   "outputs": [
    {
     "data": {
      "image/png": "[encoded data removed]",
      "text/plain": [
       "<matplotlib.figure.Figure at 0x10c70b5f8>"
      ]
     },
     "metadata": {},
     "output_type": "display_data"
    }
   ],
   "source": [
    "% matplotlib inline\n",
    "\n",
    "#sns.distplot([t_c_arr,t_s_arr], kde=True, rug=True)\n",
    "fig, ax = plt.subplots(figsize=(11,8))\n",
    "sns.distplot(t_c_arr, kde=True, rug=True, ax=ax, label = \"new post\")\n",
    "ax.set_xlabel('Time (seconds)', fontsize=14)\n",
    "ax.set_ylabel('Number of post', fontsize=14)\n",
    "ax.set_title('Kernel density estimation', fontsize=14)\n",
    "plt.legend();"
   ]
  },
  {
   "cell_type": "code",
   "execution_count": 71,
   "metadata": {
    "collapsed": false,
    "deletable": true,
    "editable": true
   },
   "outputs": [
    {
     "name": "stdout",
     "output_type": "stream",
     "text": [
      "-8.94998379649e-11 61836.8382762\n"
     ]
    },
    {
     "data": {
      "image/png": "[encoded data removed]",
      "text/plain": [
       "<matplotlib.figure.Figure at 0x10d61c588>"
      ]
     },
     "metadata": {},
     "output_type": "display_data"
    }
   ],
   "source": [
    "% matplotlib inline\n",
    "\n",
    "#sns.distplot([t_c_arr,t_s_arr], kde=True, rug=True)\n",
    "fig, ax = plt.subplots(figsize=(11,8))\n",
    "#a = stats.expon.rvs(scale=1000000 ,size=100)\n",
    "#sns.distplot(a, kde=True, rug=True, ax=ax, fit=stats.beta, label = \"post\")\n",
    "\n",
    "\n",
    "#sns.distplot(t_c_arr, kde=True, rug=True, ax=ax, fit=stats.expon, label = \"new post\")\n",
    "\n",
    "#sns.distplot(t_c_arr, kde=False, rug=True, ax=ax, label = \"new post\")\n",
    "\n",
    "loc, scale = stats.expon.fit(t_c_arr)\n",
    "print(loc,scale)\n",
    "a = stats.expon.rvs(scale=scale ,size=len(t_c_arr))\n",
    "sns.distplot(a, kde=False, rug=True, ax=ax, fit=stats.expon, label = \"post\")\n",
    "\n",
    "\n",
    "#r = sorted(stats.norm.rvs(loc=0, scale=200000, size=10000))\n",
    "#sns.distplot(r, label = \"fit\")\n",
    "ax.set_xlabel('Time (seconds)', fontsize=14)\n",
    "ax.set_ylabel('Number of post', fontsize=14)\n",
    "ax.set_title('Kernel density estimation', fontsize=14)\n",
    "plt.legend();"
   ]
  },
  {
   "cell_type": "code",
   "execution_count": 36,
   "metadata": {
    "collapsed": false,
    "deletable": true,
    "editable": true
   },
   "outputs": [
    {
     "data": {
      "text/plain": [
       "Ks_2sampResult(statistic=0.10000000000000003, pvalue=0.67662014970024542)"
      ]
     },
     "execution_count": 36,
     "metadata": {},
     "output_type": "execute_result"
    }
   ],
   "source": [
    "np.random.seed(987654321)\n",
    "a = stats.expon.rvs(scale=1000000 ,size=100)\n",
    "b = stats.expon.rvs(scale=1000000 ,size=100)\n",
    "c = stats.expon.rvs(scale=1000000 ,size=100)\n",
    "stats.ks_2samp(a,c)"
   ]
  },
  {
   "cell_type": "code",
   "execution_count": 81,
   "metadata": {
    "collapsed": false,
    "deletable": true,
    "editable": true
   },
   "outputs": [
    {
     "data": {
      "text/plain": [
       "{'bookmarked': 2,\n",
       " 'bucket_name': 'Today',\n",
       " 'bucket_order': 2,\n",
       " 'change_log': [{'anon': 'stud',\n",
       "   'data': 'j22t3j9zwfrdv',\n",
       "   'type': 'create',\n",
       "   'when': '2017-04-29T05:08:08Z'},\n",
       "  {'anon': 'no',\n",
       "   'data': 'j23ftzh8ydk5gb',\n",
       "   'to': 'j22t3j9o6qddu',\n",
       "   'type': 'i_answer',\n",
       "   'uid': 'is240fz0hug6w2',\n",
       "   'when': '2017-04-29T15:44:34Z'}],\n",
       " 'children': [{'bucket_name': 'Today',\n",
       "   'bucket_order': 2,\n",
       "   'children': [],\n",
       "   'config': {},\n",
       "   'created': '2017-04-29T15:44:34Z',\n",
       "   'data': {'embed_links': []},\n",
       "   'folders': [],\n",
       "   'history': [{'anon': 'no',\n",
       "     'content': '<p>Try printing out sizeof(argv) with different values, it might not work the way you expect it to work.</p>\\n<p></p>\\n<p>Try running it through a debugger - which line causes it to break?</p>\\n<p></p>\\n<p>What data type does result point to? What is its value? Is it also a pointer to valid memory?</p>',\n",
       "     'created': '2017-04-29T15:44:34Z',\n",
       "     'subject': '',\n",
       "     'uid': 'is240fz0hug6w2'}],\n",
       "   'id': 'j23ftzgwkbf5ga',\n",
       "   'is_tag_endorse': False,\n",
       "   'tag_endorse': [],\n",
       "   'tag_endorse_arr': [],\n",
       "   'type': 'i_answer'}],\n",
       " 'config': {},\n",
       " 'created': '2017-04-29T05:08:08Z',\n",
       " 'data': {'embed_links': []},\n",
       " 'default_anonymity': 'no',\n",
       " 'folders': ['lab'],\n",
       " 'history': [{'anon': 'stud',\n",
       "   'content': '<p></p><pre>void duplicate(char** argv, char*** result) {\\n        result = malloc(sizeof(argv)); //tried 1000 as well and my args are basically a couple of small words\\n\\n        int i = 0;\\n        while(argv[i] != NULL) {\\n                memcpy((*result)[i], argv[i], strlen(argv[i])&#43;1);\\n                i&#43;&#43;;\\n                puts(&#34;huh&#34;);\\n        }\\n}</pre>\\n<p>This is my code for the duplicate function, but I get a segfault on the memcpy line.</p>\\n<p>Here&#39;s main-</p>\\n<pre>int main(int argc, char** argv) {\\n\\n        char*** result;\\n        duplicate(argv, result);\\n        /*int i = 0;\\n        while((*result)[i] != NULL) {\\n                puts((*result)[i]);\\n                i&#43;&#43;;\\n        }*/\\n        return 0;\\n}</pre>\\n<p>And I run the function with a few args.</p>',\n",
       "   'created': '2017-04-29T05:08:08Z',\n",
       "   'subject': 'Segfault for duplicate function in review'}],\n",
       " 'i_edits': [],\n",
       " 'id': 'j22t3j9o6qddu',\n",
       " 'is_bookmarked': False,\n",
       " 'is_tag_good': False,\n",
       " 'my_favorite': False,\n",
       " 'no_answer': 0,\n",
       " 'no_answer_followup': 0,\n",
       " 'nr': 3370,\n",
       " 'num_favorites': 0,\n",
       " 'q_edits': [],\n",
       " 'request_instructor': 0,\n",
       " 'request_instructor_me': False,\n",
       " 's_edits': [],\n",
       " 'status': 'active',\n",
       " 't': 1493495974132,\n",
       " 'tag_good': [],\n",
       " 'tag_good_arr': [],\n",
       " 'tags': ['lab', 'student'],\n",
       " 'type': 'question',\n",
       " 'unique_views': 41,\n",
       " 'upvote_ids': []}"
      ]
     },
     "execution_count": 81,
     "metadata": {},
     "output_type": "execute_result"
    }
   ],
   "source": [
    "p.content_get(3370)"
   ]
  },
  {
   "cell_type": "code",
   "execution_count": null,
   "metadata": {
    "collapsed": false,
    "deletable": true,
    "editable": true
   },
   "outputs": [],
   "source": [
    "plt.clf()\n",
    "\n",
    "plt.figure(figsize=(11,8))\n",
    "\n",
    "plt.plot(sorted(a), range(0,len(a)), label='new post') # sns.xkcd_rgb[\"denim blue\"]\n",
    "plt.plot(sorted(b), range(0,len(b)), label='new post') # sns.xkcd_rgb[\"denim blue\"]\n",
    "plt.plot(sorted(c), range(0,len(c)), label='new post') # sns.xkcd_rgb[\"denim blue\"]\n",
    "\n",
    "plt.legend()\n",
    "plt.show()"
   ]
  },
  {
   "cell_type": "code",
   "execution_count": null,
   "metadata": {
    "collapsed": false,
    "deletable": true,
    "editable": true
   },
   "outputs": [],
   "source": [
    "h = []\n",
    "for i in range(0,len(t_c_arr)):\n",
    "    s = 10000000*(i+1)\n",
    "    h.append(stats.expon.rvs(scale=s))\n"
   ]
  },
  {
   "cell_type": "code",
   "execution_count": null,
   "metadata": {
    "collapsed": false,
    "deletable": true,
    "editable": true
   },
   "outputs": [],
   "source": [
    "plt.clf()\n",
    "\n",
    "plt.figure(figsize=(11,8))\n",
    "\n",
    "plt.plot(sorted(h), range(0,len(h)), label='new post') # sns.xkcd_rgb[\"denim blue\"]\n",
    "\n",
    "plt.legend()\n",
    "plt.show()"
   ]
  },
  {
   "cell_type": "markdown",
   "metadata": {
    "deletable": true,
    "editable": true
   },
   "source": [
    "## Get data (in batch)\n",
    "From 1 to (the end) <- manually set\n",
    "Get all the timing data into a matrix\n",
    "Plot for each column (post, student answer, instructor answer)"
   ]
  },
  {
   "cell_type": "code",
   "execution_count": 72,
   "metadata": {
    "collapsed": false,
    "deletable": true,
    "editable": true
   },
   "outputs": [
    {
     "name": "stdout",
     "output_type": "stream",
     "text": [
      "41\n",
      "2017-02-01T16:16:24Z\n",
      "50\n",
      "2017-02-05T06:14:24Z\n",
      "58\n",
      "2017-02-07T20:11:05Z\n",
      "59\n",
      "2017-02-07T23:05:03Z\n",
      "60\n",
      "2017-02-08T06:45:45Z\n",
      "67\n",
      "2017-02-09T03:55:42Z\n",
      "71\n",
      "2017-02-10T17:26:25Z\n",
      "73\n",
      "2017-02-10T23:01:37Z\n",
      "74\n",
      "2017-02-11T01:38:32Z\n",
      "77\n",
      "2017-02-12T22:18:06Z\n",
      "78\n",
      "2017-02-12T22:34:00Z\n",
      "80\n",
      "2017-02-13T05:10:23Z\n",
      "82\n",
      "2017-02-13T15:35:25Z\n",
      "86\n",
      "2017-02-14T02:28:50Z\n",
      "87\n",
      "2017-02-14T03:49:56Z\n",
      "88\n",
      "2017-02-14T03:59:39Z\n",
      "89\n",
      "2017-02-14T06:24:15Z\n",
      "90\n",
      "2017-02-14T06:34:23Z\n",
      "94\n",
      "2017-02-14T22:24:36Z\n",
      "96\n",
      "2017-02-14T23:32:39Z\n",
      "97\n",
      "2017-02-15T00:25:55Z\n",
      "98\n",
      "2017-02-15T01:55:37Z\n",
      "100\n",
      "2017-02-15T08:34:23Z\n",
      "101\n",
      "2017-02-15T07:47:02Z\n",
      "106\n",
      "2017-02-15T21:22:31Z\n",
      "108\n",
      "2017-02-15T23:22:45Z\n",
      "113\n",
      "2017-02-28T05:39:25Z\n",
      "118\n",
      "2017-02-17T05:50:42Z\n",
      "132\n",
      "2017-02-20T00:13:47Z\n",
      "134\n",
      "2017-02-20T01:54:02Z\n",
      "196\n",
      "2017-02-23T20:45:26Z\n",
      "--- 82.41754794120789 seconds ---\n",
      "\n"
     ]
    }
   ],
   "source": [
    "idx_start = 1\n",
    "idx_end = 200\n",
    "tag = 'hw1'\n",
    "\n",
    "t_c_arr = []\n",
    "t_s_arr = []\n",
    "t_i_arr = []\n",
    "\n",
    "start_time = time.time()\n",
    "\n",
    "for i in range(idx_start,idx_end):\n",
    "    t_cur = get_timing(i,tag)\n",
    "    if (t_cur != None):\n",
    "        t_c_arr.append(t_cur[0])\n",
    "        if (t_cur[1] != -1):\n",
    "            t_s_arr.append(t_cur[1])\n",
    "        if (t_cur[2] != -1):\n",
    "            t_i_arr.append(t_cur[2])\n",
    "\n",
    "print(\"--- %s seconds ---\\n\" % (time.time() - start_time))\n",
    "\n",
    "#print(t_c_arr)\n",
    "#print(t_s_arr)\n",
    "#print(t_i_arr)"
   ]
  },
  {
   "cell_type": "code",
   "execution_count": 76,
   "metadata": {
    "collapsed": false,
    "deletable": true,
    "editable": true
   },
   "outputs": [
    {
     "data": {
      "text/plain": [
       "<matplotlib.figure.Figure at 0x1097c99e8>"
      ]
     },
     "metadata": {},
     "output_type": "display_data"
    },
    {
     "data": {
      "image/png": "[encoded data removed]",
      "text/plain": [
       "<matplotlib.figure.Figure at 0x10db76dd8>"
      ]
     },
     "metadata": {},
     "output_type": "display_data"
    }
   ],
   "source": [
    "plt.clf()\n",
    "\n",
    "plt.figure(figsize=(11,8))\n",
    "\n",
    "t_min = min(t_c_arr)\n",
    "t_c_arr = [x-t_min for x in t_c_arr]\n",
    "t_s_arr = [x-t_min for x in t_s_arr]\n",
    "t_i_arr = [x-t_min for x in t_i_arr]\n",
    "\n",
    "plt.plot(sorted(t_c_arr), range(0,len(t_c_arr)), label='new post') # sns.xkcd_rgb[\"denim blue\"]\n",
    "plt.plot(sorted(t_s_arr), range(0,len(t_s_arr)), label='student answer')\n",
    "plt.plot(sorted(t_i_arr), range(0,len(t_i_arr)), label='instructor answer')\n",
    "\n",
    "# week\n",
    "min_per_week = 3*24*60*60\n",
    "w_begin = t_c_arr[0]\n",
    "w = []\n",
    "for x in range(0,10):\n",
    "    w.append(t_c_arr[0]+x*min_per_week)\n",
    "    w.append(t_c_arr[0]+(x+1)*min_per_week)\n",
    "plt.plot(w, range(0,len(w)), label='week')\n",
    "\n",
    "plt.legend()\n",
    "plt.show()"
   ]
  },
  {
   "cell_type": "code",
   "execution_count": null,
   "metadata": {
    "collapsed": false,
    "deletable": true,
    "editable": true
   },
   "outputs": [],
   "source": [
    "% matplotlib inline\n",
    "\n",
    "#sns.distplot([t_c_arr,t_s_arr], kde=True, rug=True)\n",
    "fig, ax = plt.subplots(figsize=(11,8))\n",
    "sns.distplot(t_c_arr, kde=True, rug=True, ax=ax, label = \"new post\")\n",
    "sns.distplot(t_s_arr, kde=True, rug=True, ax=ax, label = \"student answer\")\n",
    "sns.distplot(t_i_arr, kde=True, rug=True, ax=ax, label = \"instructor answer\")\n",
    "ax.set_xlabel('Time (seconds)', fontsize=14)\n",
    "ax.set_ylabel('Number of post', fontsize=14)\n",
    "ax.set_title('Kernel density estimation', fontsize=14)\n",
    "plt.legend();"
   ]
  },
  {
   "cell_type": "markdown",
   "metadata": {
    "deletable": true,
    "editable": true
   },
   "source": [
    "## Referencial Testing"
   ]
  },
  {
   "cell_type": "code",
   "execution_count": null,
   "metadata": {
    "collapsed": false,
    "deletable": true,
    "editable": true
   },
   "outputs": [],
   "source": [
    "for i in range(1,10):\n",
    "    t_mat = []\n",
    "    t_cur = get_timing(i)\n",
    "    print (t_cur)"
   ]
  },
  {
   "cell_type": "code",
   "execution_count": 77,
   "metadata": {
    "collapsed": false,
    "deletable": true,
    "editable": true
   },
   "outputs": [
    {
     "data": {
      "text/plain": [
       "{'bookmarked': 5,\n",
       " 'bucket_name': 'Today',\n",
       " 'bucket_order': 2,\n",
       " 'change_log': [{'anon': 'stud',\n",
       "   'data': 'iz8rngrmqaq5wi',\n",
       "   'type': 'create',\n",
       "   'when': '2017-02-16T19:15:09Z'},\n",
       "  {'anon': 'stud',\n",
       "   'data': 'iz8rpvvulie7e3',\n",
       "   'type': 'update',\n",
       "   'when': '2017-02-16T19:17:02Z'},\n",
       "  {'anon': 'stud',\n",
       "   'data': 'iz8rqmlmnz67ay',\n",
       "   'type': 'update',\n",
       "   'when': '2017-02-16T19:17:36Z'},\n",
       "  {'anon': 'no',\n",
       "   'to': 'iz8rngqqt4p5wh',\n",
       "   'type': 'followup',\n",
       "   'uid': 'is699xqt8ks4bq',\n",
       "   'when': '2017-02-16T19:23:09Z'},\n",
       "  {'anon': 'stud',\n",
       "   'to': 'iz8rngqqt4p5wh',\n",
       "   'type': 'feedback',\n",
       "   'when': '2017-02-16T19:28:35Z'},\n",
       "  {'anon': 'no',\n",
       "   'data': 'iz8s6uwf7173he',\n",
       "   'to': 'iz8rngqqt4p5wh',\n",
       "   'type': 'i_answer',\n",
       "   'uid': 'idryajwi8w54ni',\n",
       "   'when': '2017-02-16T19:30:14Z'},\n",
       "  {'anon': 'no',\n",
       "   'data': 'iz8s9ewm66s57b',\n",
       "   'type': 'i_answer_update',\n",
       "   'uid': 'idryajwi8w54ni',\n",
       "   'when': '2017-02-16T19:32:13Z'},\n",
       "  {'anon': 'no',\n",
       "   'data': 'iz8ufzpaeij44c',\n",
       "   'type': 'i_answer_update',\n",
       "   'uid': 'gxth1s7fn8k4r0',\n",
       "   'when': '2017-02-16T20:33:19Z'},\n",
       "  {'anon': 'no',\n",
       "   'data': 'iz8uk8yb9kq6tf',\n",
       "   'type': 'i_answer_update',\n",
       "   'uid': 'gxth1s7fn8k4r0',\n",
       "   'when': '2017-02-16T20:36:38Z'},\n",
       "  {'anon': 'stud',\n",
       "   'to': 'iz8rngqqt4p5wh',\n",
       "   'type': 'followup',\n",
       "   'when': '2017-02-17T22:44:49Z'}],\n",
       " 'children': [{'anon': 'no',\n",
       "   'bucket_name': 'Yesterday',\n",
       "   'bucket_order': 3,\n",
       "   'children': [{'anon': 'stud',\n",
       "     'bucket_name': 'Yesterday',\n",
       "     'bucket_order': 3,\n",
       "     'children': [],\n",
       "     'config': {},\n",
       "     'created': '2017-02-16T19:28:35Z',\n",
       "     'd-bucket': 'Yesterday',\n",
       "     'data': {'embed_links': None},\n",
       "     'folders': [],\n",
       "     'id': 'iz8s4qi7czi3li',\n",
       "     'subject': '<p>I see. I think I understand now! Thanks</p>',\n",
       "     'type': 'feedback',\n",
       "     'updated': '2017-02-16T19:28:35Z'}],\n",
       "   'config': {},\n",
       "   'created': '2017-02-16T19:23:09Z',\n",
       "   'd-bucket': 'Yesterday',\n",
       "   'data': {'embed_links': None},\n",
       "   'folders': [],\n",
       "   'id': 'iz8rxrco2hb69y',\n",
       "   'no_answer': 0,\n",
       "   'no_upvotes': 0,\n",
       "   'subject': '<p>I think it doesn&#39;t say whether C0 is 0-valent or 1-valent, neither does C1. We only know for sure that D0 is 0-valent and D1 is 1-valent, which leads to the contradiction that D0 is bi-valent in page34.</p>',\n",
       "   'type': 'followup',\n",
       "   'uid': 'is699xqt8ks4bq',\n",
       "   'updated': '2017-02-16T19:23:09Z'},\n",
       "  {'bucket_name': 'Today',\n",
       "   'bucket_order': 2,\n",
       "   'children': [],\n",
       "   'config': {},\n",
       "   'created': '2017-02-16T19:30:14Z',\n",
       "   'data': {'embed_links': []},\n",
       "   'folders': [],\n",
       "   'history': [{'anon': 'no',\n",
       "     'content': '<p>1.<span style=\"text-decoration:line-through\"> A successive configuration from an i-valent configuration does <strong>not</strong> have to be i-valent</span>.\\xa0<strong>Nikita</strong>: once you are in a 0-valent config, any successive config <strong>must\\xa0</strong>be 0-valent.\\xa0</p>\\n<p>2. We are choosing\\xa0$$D_i$$ as\\xa0i-valent. While\\xa0$$C_i$$ can be any valent.</p>\\n<p>3. The reason is same as in 1.\\xa0</p>\\n<p>4.\\xa0$$C_0$$ can be any valent.</p>\\n<p></p>\\n<p>I believe this paper explains things better\\xa0as they are more rigid, and have a lot of text. (unlike ppt)</p>\\n<p><a href=\"https://groups.csail.mit.edu/tds/papers/Lynch/jacm85.pdf\">https://groups.csail.mit.edu/tds/papers/Lynch/jacm85.pdf</a></p>\\n<p></p>\\n<p>Plus there is a blog trying to simplify things:</p>\\n<p><a href=\"http://the-paper-trail.org/blog/a-brief-tour-of-flp-impossibility/\">http://the-paper-trail.org/blog/a-brief-tour-of-flp-impossibility/</a><a href=\"http://the-paper-trail.org/blog/a-brief-tour-of-flp-impossibility/\"></a></p>\\n<p></p>\\n<p><strong>Nikita</strong>: the precise statement is there exist $$C_0, C_1, D_0, D_1$$ such that:</p>\\n<ol><li>$$D_0$$ is 0-valent</li><li>$$D_1$$ is 1-valent</li><li>$$D_0 = C_0 &#43; e$$</li><li>$$D_1 = C_1 &#43; e$$</li><li>$$C_1 = C_0 &#43; e&#39;$$ for some $$e&#39;$$</li></ol>\\n<p><br />(The last condition is assumed without loss of generality; it could instead be the case that $$C_0 = C_1 &#43; e&#39;$$\\xa0for some $e&#39;$, but this doesn&#39;t change the proof.)</p>\\n<p></p>\\n<p>$$C_0$$ and $$C_1$$ could be bivalent (in fact $$C_0$$\\xa0<em>has\\xa0</em>to be bivalent), it&#39;s just that after applying $$e$$ to $$C_0$$ you get $$D_0$$, which is not bivalent.</p>',\n",
       "     'created': '2017-02-16T20:36:38Z',\n",
       "     'subject': '',\n",
       "     'uid': 'gxth1s7fn8k4r0'},\n",
       "    {'anon': 'no',\n",
       "     'content': '<p>1.<span style=\"text-decoration:line-through\"> A successive configuration from an i-valent configuration does <strong>not</strong> have to be i-valent</span>.\\xa0<strong>Nikita</strong>: once you are in a 0-valent config, any successive config <strong>must\\xa0</strong>be 0-valent.\\xa0</p>\\n<p>2. We are choosing\\xa0$$D_i$$ as\\xa0i-valent. While\\xa0$$C_i$$ can be any valent.</p>\\n<p>3. The reason is same as in 1.\\xa0</p>\\n<p>4.\\xa0$$C_0$$ can be any valent.</p>\\n<p></p>\\n<p>I believe this paper explains things better\\xa0as they are more rigid, and have a lot of text. (unlike ppt)</p>\\n<p><a href=\"https://groups.csail.mit.edu/tds/papers/Lynch/jacm85.pdf\">https://groups.csail.mit.edu/tds/papers/Lynch/jacm85.pdf</a></p>\\n<p></p>\\n<p>Plus there is a blog trying to simplify things:</p>\\n<p><a href=\"http://the-paper-trail.org/blog/a-brief-tour-of-flp-impossibility/\">http://the-paper-trail.org/blog/a-brief-tour-of-flp-impossibility/</a><a href=\"http://the-paper-trail.org/blog/a-brief-tour-of-flp-impossibility/\"></a></p>\\n<p></p>\\n<p><strong>Nikita</strong>: the precise statement is there exist $$C_0, C_1, D_0, D_1$$ such that:</p>\\n<ol><li>$$D_0$$ is 0-valent</li><li>$$D_1$$ is 1-valent</li><li>$$D_0 = C_0 &#43; e$$</li><li>$$D_1 = C_1 &#43; e$$</li><li>$$C_1 = C_0 &#43; e&#39;$$ for some $$e&#39;$$</li></ol>\\n<p><br />(The last condition is assumed without loss of generality; it could instead be the case that $$C_0 = C_1 &#43; e&#39;$$\\xa0for some $e&#39;$, but this doesn&#39;t change the proof.)</p>',\n",
       "     'created': '2017-02-16T20:33:19Z',\n",
       "     'subject': '',\n",
       "     'uid': 'gxth1s7fn8k4r0'},\n",
       "    {'anon': 'no',\n",
       "     'content': '<p>1. A successive configuration from an i-valent configuration does <strong>not</strong> have to be i-valent.</p>\\n<p>2. We are choosing\\xa0$$D_i$$ as\\xa0i-valent. While\\xa0$$C_i$$ can be any valent.</p>\\n<p>3. The reason is same as in 1.\\xa0</p>\\n<p>4.\\xa0$$C_0$$ can be any valent.</p>\\n<p></p>\\n<p>I believe this paper explains things better\\xa0as they are more rigid, and have a lot of text. (unlike ppt)</p>\\n<p><a href=\"https://groups.csail.mit.edu/tds/papers/Lynch/jacm85.pdf\">https://groups.csail.mit.edu/tds/papers/Lynch/jacm85.pdf</a></p>\\n<p></p>\\n<p>Plus there is a blog trying to simplify things:</p>\\n<p><a href=\"http://the-paper-trail.org/blog/a-brief-tour-of-flp-impossibility/\">http://the-paper-trail.org/blog/a-brief-tour-of-flp-impossibility/</a></p>\\n<p></p>',\n",
       "     'created': '2017-02-16T19:32:13Z',\n",
       "     'subject': '',\n",
       "     'uid': 'idryajwi8w54ni'},\n",
       "    {'anon': 'no',\n",
       "     'content': '<p>1. A successive configuration from an i-valent configuration does <strong>not</strong> have to be i-valent.</p>\\n<p>2. We are choosing\\xa0$$D_i$$ as\\xa0i-valent. While\\xa0$$C_i$$ can be any valent, even bi-valent.</p>\\n<p>3. The reason is same as in 1.\\xa0</p>\\n<p>4.\\xa0$$C_0$$ can be any-valent.</p>\\n<p></p>\\n<p>I believe this paper explains things better\\xa0as they are more rigid, and have a lot of text. (unlike ppt)</p>\\n<p><a href=\"https://groups.csail.mit.edu/tds/papers/Lynch/jacm85.pdf\">https://groups.csail.mit.edu/tds/papers/Lynch/jacm85.pdf</a></p>\\n<p></p>\\n<p>Plus there is a blog trying to simplify things:</p>\\n<p><a href=\"http://the-paper-trail.org/blog/a-brief-tour-of-flp-impossibility/\">http://the-paper-trail.org/blog/a-brief-tour-of-flp-impossibility/</a></p>\\n<p></p>',\n",
       "     'created': '2017-02-16T19:30:14Z',\n",
       "     'subject': '',\n",
       "     'uid': 'idryajwi8w54ni'}],\n",
       "   'id': 'iz8s6uw8zxc3hd',\n",
       "   'is_tag_endorse': False,\n",
       "   'tag_endorse': [{'admin': False,\n",
       "     'facebook_id': None,\n",
       "     'id': 'idmexm2ezesay',\n",
       "     'name': 'Alan Gan',\n",
       "     'photo': None,\n",
       "     'role': 'student',\n",
       "     'us': False}],\n",
       "   'tag_endorse_arr': ['idmexm2ezesay'],\n",
       "   'type': 'i_answer'},\n",
       "  {'anon': 'stud',\n",
       "   'bucket_name': 'Today',\n",
       "   'bucket_order': 2,\n",
       "   'children': [],\n",
       "   'config': {},\n",
       "   'created': '2017-02-17T22:44:49Z',\n",
       "   'data': {'embed_links': None},\n",
       "   'folders': [],\n",
       "   'id': 'izaekyl2vdf6ck',\n",
       "   'no_answer': 1,\n",
       "   'no_upvotes': 0,\n",
       "   'subject': '<p>Do we need to memorize the proof for the exam?</p>',\n",
       "   'type': 'followup',\n",
       "   'updated': '2017-02-17T22:44:49Z'}],\n",
       " 'config': {},\n",
       " 'created': '2017-02-16T19:15:09Z',\n",
       " 'data': {'embed_links': []},\n",
       " 'default_anonymity': 'no',\n",
       " 'folders': ['other'],\n",
       " 'history': [{'anon': 'stud',\n",
       "   'content': '<p></p>\\n<div>I am a little confused about a detail in the FLP Proof.</div>\\n<p></p>\\n<div>Is it the case that any successive configuration from an $$i$$-valent configuration is also $$i$$-valent?</div>\\n<p></p>\\n<div>That is, a configuration $$C_1$$ (1-valent) can only directly result in 1-valent configurations by the definition of valency.</div>\\n<p></p>\\n<div>If this is the case, I do not understand how there can be a $$C_0$$ and $$C_1$$ in the set $$C$$ such that they are separated by a single event $$e&#39;$$. If $$C_0$$ is 0-valent, how can an event $$e&#39;$$ cause $$C_0$$ to lead to $$C_1$$, a 1-valent configuration or vice versa?</div>\\n<p></p>\\n<div>If this is not the case, then how can the the proof make the case that a 0-valent configuration $$D_0$$ is necessarily a result of applying event $$e$$ to a 0-valent $$C_0$$?</div>\\n<p></p>\\n<div>I&#39;m referring to slide 33 here:\\xa0<a href=\"https://courses.engr.illinois.edu/cs425/fa2016/L16.A.FA16.pdf\" target=\"_top\">https://courses.engr.illinois.edu/cs425/fa2016/L16.A.FA16.pdf</a></div>',\n",
       "   'created': '2017-02-16T19:17:36Z',\n",
       "   'subject': 'FLP Impossibility Proof / Valency'},\n",
       "  {'anon': 'stud',\n",
       "   'content': '<p></p>\\n<div>I am a little confused about a detail in the FLP Proof.</div>\\n<p></p>\\n<div>Is it the case that any successive configuration from an $$i$$-valent configuration is also $$i$$-valent?</div>\\n<p></p>\\n<div>That is, a configuration $$C_1$$ (1-valent) can only directly result in 1-valent configurations by the definition of valency.</div>\\n<p></p>\\n<div>If this is the case, I do not understand how there can be a $$C_0$$ and $$C_1$$ in the set $$C$$ such that they are separated by a single event $$e&#39;$$. If $$C_0$$ is 0-valent, how can an event $$e&#39;$$ cause $$C_0$$ to lead to $$C_1$$, a 1-valent configuration?</div>\\n<p></p>\\n<div>If this is not the case, then how can the the proof make the case that a 0-valent configuration $$D_0$$ is necessarily a result of applying event $$e$$ to a 0-valent $$C_0$$?</div>\\n<p></p>\\n<div>I&#39;m referring to slide 33 here:\\xa0<a href=\"https://courses.engr.illinois.edu/cs425/fa2016/L16.A.FA16.pdf\" target=\"_top\">https://courses.engr.illinois.edu/cs425/fa2016/L16.A.FA16.pdf</a></div>',\n",
       "   'created': '2017-02-16T19:17:02Z',\n",
       "   'subject': 'FLP Impossibility Proof / Valency'},\n",
       "  {'anon': 'stud',\n",
       "   'content': '<p></p><div>I am a little confused about a detail in the FLP Proof.</div>\\n<div></div>\\n<div>Is it the case that any successive configuration from an $$i$$-valent configuration is also $$i$$-valent?</div>\\n<div></div>\\n<div>That is, a configuration $$C_1$$ (1-valent) can only directly result in 1-valent configurations by the definition of valency.</div>\\n<div></div>\\n<div>If this is the case, I do not understand how there can be a $$C_0$$ and $$C_1$$ in the set $$C$$ such that they are separated by a single event $$e&#39;$$. If $$C_0$$ is 0-valent, how can an event $$e&#39;$$ cause $$C_0$$ to lead to $$C_1$$, a 1-valent configuration?</div>\\n<div></div>\\n<div>If this is not the case, then how can the the proof make the case that a 0-valent configuration $$D_0$$ is necessarily a result of applying event $$e$$ to a 0-valent $$C_0$$?</div>\\n<div></div>\\n<div>I&#39;m referring to slide 33 here:\\xa0<a href=\"https://courses.engr.illinois.edu/cs425/fa2016/L16.A.FA16.pdf\" target=\"_top\">https://courses.engr.illinois.edu/cs425/fa2016/L16.A.FA16.pdf</a></div>',\n",
       "   'created': '2017-02-16T19:15:09Z',\n",
       "   'subject': 'FLP Impossibility Proof / Valency'}],\n",
       " 'i_edits': [],\n",
       " 'id': 'iz8rngqqt4p5wh',\n",
       " 'is_bookmarked': False,\n",
       " 'is_tag_good': False,\n",
       " 'my_favorite': False,\n",
       " 'no_answer': 0,\n",
       " 'no_answer_followup': 1,\n",
       " 'nr': 112,\n",
       " 'num_favorites': 0,\n",
       " 'q_edits': [],\n",
       " 'request_instructor': 0,\n",
       " 'request_instructor_me': False,\n",
       " 's_edits': [],\n",
       " 'status': 'active',\n",
       " 't': 1493423066801,\n",
       " 'tag_good': [],\n",
       " 'tag_good_arr': [],\n",
       " 'tags': ['other', 'student'],\n",
       " 'type': 'question',\n",
       " 'unique_views': 83,\n",
       " 'upvote_ids': []}"
      ]
     },
     "execution_count": 77,
     "metadata": {},
     "output_type": "execute_result"
    }
   ],
   "source": [
    "p.content_get(112)"
   ]
  },
  {
   "cell_type": "markdown",
   "metadata": {
    "deletable": true,
    "editable": true
   },
   "source": [
    "## Old functions"
   ]
  },
  {
   "cell_type": "code",
   "execution_count": null,
   "metadata": {
    "collapsed": true,
    "deletable": true,
    "editable": true
   },
   "outputs": [],
   "source": [
    "def diff_time(t1, t2):\n",
    "    fmt = '%Y-%m-%dT%H:%M:%SZ'\n",
    "    d1 = datetime.strptime(t1, fmt)\n",
    "    d2 = datetime.strptime(t2, fmt)\n",
    "\n",
    "    # convert to unix timestamp\n",
    "    d1_ts = time.mktime(d1.timetuple())\n",
    "    d2_ts = time.mktime(d2.timetuple())\n",
    "\n",
    "    # they are now in seconds, subtract and then divide by 60 to get minutes.\n",
    "    return int(d2_ts-d1_ts)/60"
   ]
  },
  {
   "cell_type": "code",
   "execution_count": null,
   "metadata": {
    "collapsed": false,
    "deletable": true,
    "editable": true
   },
   "outputs": [],
   "source": [
    "def get_post_data_verbose(cid):\n",
    "    t_c = p.content_get(cid)[\"history\"][0]['created']\n",
    "    print(\"time thread is created:\")\n",
    "    print(\"\\t\"+t_c)\n",
    "    \n",
    "    t_a = []\n",
    "    for x in p.content_get(cid)[\"children\"]:\n",
    "        if (x[\"type\"]==\"s_answer\" or x[\"type\"]==\"i_answer\"):\n",
    "            t_a.append(x['created'])\n",
    "            print(\"\\ntime thread is resolved:\")\n",
    "            print(\"\\t\"+x[\"type\"])\n",
    "            print(\"\\t\"+x['created'])\n",
    "            if (x[\"type\"]==\"s_answer\" and x[\"tag_endorse\"] != []):\n",
    "                print(\"\\tendorsed\")\n",
    "            print(\"\\twith latency:\")\n",
    "            print(\"\\t\\t\"+str(diff_time(t_c, x['created']))+\" minutes\")"
   ]
  },
  {
   "cell_type": "code",
   "execution_count": null,
   "metadata": {
    "collapsed": true,
    "deletable": true,
    "editable": true
   },
   "outputs": [],
   "source": [
    "def get_post_data(cid):\n",
    "    t_c = p.content_get(cid)[\"history\"][0]['created'] # time thread is created\n",
    "    t_a = [] # time thread is resolved\n",
    "    for x in p.content_get(cid)[\"children\"]:\n",
    "        if (x[\"type\"]==\"s_answer\" or x[\"type\"]==\"i_answer\"):\n",
    "            t_a.append(x['created'])\n",
    "            print(\"\\ntime thread is resolved:\")\n",
    "            print(\"\\t\"+x[\"type\"])\n",
    "            print(\"\\t\"+x['created'])\n",
    "            if (x[\"type\"]==\"s_answer\" and x[\"tag_endorse\"] != []):\n",
    "                print(\"\\tendorsed\")\n",
    "            print(\"\\twith latency:\")\n",
    "            print(\"\\t\\t\"+str(diff_time(t_c, x['created']))+\" minutes\")"
   ]
  }
 ],
 "metadata": {
  "kernelspec": {
   "display_name": "Python 3",
   "language": "python",
   "name": "python3"
  },
  "language_info": {
   "codemirror_mode": {
    "name": "ipython",
    "version": 3
   },
   "file_extension": ".py",
   "mimetype": "text/x-python",
   "name": "python",
   "nbconvert_exporter": "python",
   "pygments_lexer": "ipython3",
   "version": "3.5.2"
  }
 },
 "nbformat": 4,
 "nbformat_minor": 2
}
