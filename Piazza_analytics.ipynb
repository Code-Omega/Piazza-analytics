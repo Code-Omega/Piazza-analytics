{
 "cells": [
  {
   "cell_type": "markdown",
   "metadata": {
    "deletable": true,
    "editable": true
   },
   "source": [
    "# Piazza Data Collection & Analysis\n",
    "Zehua Li\n",
    "April 2017\n",
    "\n",
    "This notebook looks at the timing distributions of the question and answer generation on piazza."
   ]
  },
  {
   "cell_type": "code",
   "execution_count": null,
   "metadata": {
    "collapsed": true,
    "deletable": true,
    "editable": true
   },
   "outputs": [],
   "source": [
    "# python setup\n",
    "\n",
    "% matplotlib inline\n",
    "\n",
    "from piazza_api.rpc import PiazzaRPC\n",
    "from datetime import datetime\n",
    "import time\n",
    "\n",
    "import numpy as np\n",
    "import seaborn as sns\n",
    "import matplotlib as mpl\n",
    "import matplotlib.pyplot as plt\n",
    "\n",
    "import scipy.stats as stats"
   ]
  },
  {
   "cell_type": "markdown",
   "metadata": {
    "deletable": true,
    "editable": true
   },
   "source": [
    "## Piazza connection using API"
   ]
  },
  {
   "cell_type": "markdown",
   "metadata": {},
   "source": [
    "# -DON'T FORGET TO FILL THESE IN-"
   ]
  },
  {
   "cell_type": "code",
   "execution_count": null,
   "metadata": {
    "collapsed": true,
    "deletable": true,
    "editable": true
   },
   "outputs": [],
   "source": [
    "#p = PiazzaRPC(classcode) # course\n",
    "#p.user_login(username, password) # login"
   ]
  },
  {
   "cell_type": "markdown",
   "metadata": {
    "deletable": true,
    "editable": true
   },
   "source": [
    "## Functions"
   ]
  },
  {
   "cell_type": "code",
   "execution_count": null,
   "metadata": {
    "collapsed": true,
    "deletable": true,
    "editable": true
   },
   "outputs": [],
   "source": [
    "def to_time(t): # convert to unix timestamp (in seconds)\n",
    "    fmt = '%Y-%m-%dT%H:%M:%SZ'\n",
    "    return time.mktime((datetime.strptime(t, fmt)).timetuple())"
   ]
  },
  {
   "cell_type": "code",
   "execution_count": null,
   "metadata": {
    "collapsed": true,
    "deletable": true,
    "editable": true
   },
   "outputs": [],
   "source": [
    "def to_hour(t): # convert to unix timestamp (in seconds)\n",
    "    fmt = '%Y-%m-%dT%H:%M:%SZ'\n",
    "    d = datetime.strptime(t, fmt)\n",
    "    h = d.hour*3600. + d.minute*60. + d.second\n",
    "    return h"
   ]
  },
  {
   "cell_type": "code",
   "execution_count": null,
   "metadata": {
    "collapsed": true,
    "deletable": true,
    "editable": true
   },
   "outputs": [],
   "source": [
    "def diff_time(t1, t2):# subtract\n",
    "    return int(abs(t1-t2))"
   ]
  },
  {
   "cell_type": "code",
   "execution_count": null,
   "metadata": {
    "collapsed": true,
    "deletable": true,
    "editable": true
   },
   "outputs": [],
   "source": [
    "def get_timing(cid,tag = None,only_ct = True):\n",
    "    try:\n",
    "        post = p.content_get(cid)\n",
    "        if (post[\"type\"] != \"question\"):\n",
    "            return None # if not a question, ignore\n",
    "        if (tag is not None):\n",
    "            if(not set(tag).isdisjoint(post[\"tags\"])):\n",
    "                return None # if does not meet the requested tag, ignore\n",
    "        c_time = to_time(post['created']) # time thread is created\n",
    "        s_time = -1 # time thread is resolved by student, -1 if never\n",
    "        i_time = -1 # time thread is resolved by instructor, -1 if never\n",
    "        if (not only_ct):\n",
    "            for x in post[\"children\"]:\n",
    "                if (x[\"type\"]==\"s_answer\"):\n",
    "                    s_time = to_time(x['created'])\n",
    "                if (x[\"type\"]==\"i_answer\"):\n",
    "                    i_time = to_time(x['created'])\n",
    "        return [c_time,s_time,i_time]\n",
    "    except:\n",
    "        pass # if post does not exist, ignore"
   ]
  },
  {
   "cell_type": "code",
   "execution_count": null,
   "metadata": {
    "collapsed": true,
    "deletable": true,
    "editable": true
   },
   "outputs": [],
   "source": [
    "def get_daily_timing(cid,tag = None):\n",
    "    try:\n",
    "        if (p.content_get(cid)[\"type\"] != \"question\"):\n",
    "            return None # if not a question, ignore\n",
    "        if (tag is not None):\n",
    "            if(tag not in p.content_get(cid)[\"tags\"]):\n",
    "                return None # if does not meet the requested tag, ignore\n",
    "        c_time = to_hour(p.content_get(cid)['created'])\n",
    "        i_time = -1 # time thread is resolved by instructor, -1 if never\n",
    "        if (not only_ct):\n",
    "            for x in post[\"children\"]:\n",
    "                if (x[\"type\"]==\"s_answer\"):\n",
    "                    s_time = to_time(x['created'])\n",
    "                if (x[\"type\"]==\"i_answer\"):\n",
    "                    i_time = to_time(x['created'])\n",
    "        return [c_time]\n",
    "    except:\n",
    "        pass # if post does not exist, ignore"
   ]
  },
  {
   "cell_type": "code",
   "execution_count": null,
   "metadata": {
    "collapsed": true,
    "deletable": true,
    "editable": true
   },
   "outputs": [],
   "source": [
    "def get_latency(cid,tag = None):\n",
    "    try:\n",
    "        if (p.content_get(cid)[\"type\"] != \"question\"):\n",
    "            return None # if not a question, ignore\n",
    "        if (tag is not None):\n",
    "            if(tag not in p.content_get(cid)[\"tags\"]):\n",
    "                return None # if does not meet the requested tag, ignore\n",
    "        c_time = to_time(p.content_get(cid)['created']) # time thread is created\n",
    "        s_time = -1 # time thread is resolved by student, -1 if never\n",
    "        i_time = -1 # time thread is resolved by instructor, -1 if never\n",
    "        for x in p.content_get(cid)[\"children\"]:\n",
    "            if (x[\"type\"]==\"s_answer\"):\n",
    "                s_time = diff_time(to_time(x['created']),c_time)\n",
    "            if (x[\"type\"]==\"i_answer\"):\n",
    "                i_time = diff_time(to_time(x['created']),c_time)\n",
    "        return [c_time,s_time,i_time]\n",
    "    except:\n",
    "        pass # if post does not exist, ignore"
   ]
  },
  {
   "cell_type": "markdown",
   "metadata": {
    "deletable": true,
    "editable": true
   },
   "source": [
    "## Post types"
   ]
  },
  {
   "cell_type": "code",
   "execution_count": null,
   "metadata": {
    "collapsed": true,
    "deletable": true,
    "editable": true
   },
   "outputs": [],
   "source": [
    "quiz = [\"quiz1\",\"quiz2\",\"quiz3\",\"quiz4\",\"quiz5\"]\n",
    "test = [\"midterm_exam1\",\"midterm_exam2\"]\n",
    "mp = [\"pointers_gone_wild\",\"vector\",\"text_editor\",\"shell\",\"malloc\",\"password_cracker\",\"parallel_make\",\"mapreduce\",\"mp\",\"networking_nightmare\"]\n",
    "lab = [\"know_your_tools\",\"extreme_edge_cases\",\"utilities_unleased\",\"mini_valgrind\",\"ideal_indirection\",\"mad_mad_access_pattern\",\"finding_filesystems\",\"chatroom\",\"scheduler\",\"super_linux_kernel\",\"lab\",\"teaching_threads\",\"splendid_synchronization\",\"deadlocked_diners\",\"pied_piper\"]"
   ]
  },
  {
   "cell_type": "markdown",
   "metadata": {
    "deletable": true,
    "editable": true
   },
   "source": [
    "## Get Stats of Quiz Posts"
   ]
  },
  {
   "cell_type": "code",
   "execution_count": null,
   "metadata": {
    "collapsed": false,
    "deletable": true,
    "editable": true
   },
   "outputs": [],
   "source": [
    "[idx_start,idx_end,tag] = [0,3300,quiz]\n",
    "\n",
    "t_c_arr = []\n",
    "t_last = 0\n",
    "\n",
    "start_time = time.time()\n",
    "\n",
    "for i in range(idx_start,idx_end):\n",
    "    t_cur = get_timing(i,tag)\n",
    "    if (t_cur != None):\n",
    "        if (t_last == 0):\n",
    "            t_last = t_cur[0]\n",
    "        t_c_arr.append(t_cur[0]-t_last)\n",
    "        t_last = t_cur[0]\n",
    "\n",
    "print(\"--- %s seconds ---\\n\" % (time.time() - start_time))"
   ]
  },
  {
   "cell_type": "code",
   "execution_count": null,
   "metadata": {
    "collapsed": false,
    "deletable": true,
    "editable": true
   },
   "outputs": [],
   "source": [
    "arr = [x/3600. for x in t_c_arr]\n",
    "print(*arr, sep=' ')"
   ]
  },
  {
   "cell_type": "code",
   "execution_count": null,
   "metadata": {
    "collapsed": false,
    "deletable": true,
    "editable": true
   },
   "outputs": [],
   "source": [
    "sum(arr)"
   ]
  },
  {
   "cell_type": "code",
   "execution_count": null,
   "metadata": {
    "collapsed": false,
    "deletable": true,
    "editable": true
   },
   "outputs": [],
   "source": [
    "fig, ax = plt.subplots(figsize=(11,8))\n",
    "sns.distplot(t_c_arr, kde=False, rug=True, ax=ax, fit=stats.expon, label = \"new post\")\n",
    "ax.set_xlabel('Time (seconds)', fontsize=14)\n",
    "ax.set_ylabel('Number of post', fontsize=14)\n",
    "ax.set_title('Kernel density estimation', fontsize=14)\n",
    "plt.legend();"
   ]
  },
  {
   "cell_type": "markdown",
   "metadata": {
    "collapsed": true,
    "deletable": true,
    "editable": true
   },
   "source": [
    "## Get Stats of Test Posts"
   ]
  },
  {
   "cell_type": "code",
   "execution_count": null,
   "metadata": {
    "collapsed": false,
    "deletable": true,
    "editable": true
   },
   "outputs": [],
   "source": [
    "[idx_start,idx_end,tag] = [0,3300,test]\n",
    "\n",
    "t_c_arr = []\n",
    "t_last = 0\n",
    "\n",
    "start_time = time.time()\n",
    "\n",
    "for i in range(idx_start,idx_end):\n",
    "    t_cur = get_timing(i,tag)\n",
    "    if (t_cur != None):\n",
    "        if (t_last == 0):\n",
    "            t_last = t_cur[0]\n",
    "        t_c_arr.append(t_cur[0]-t_last)\n",
    "        t_last = t_cur[0]\n",
    "\n",
    "print(\"--- %s seconds ---\\n\" % (time.time() - start_time))"
   ]
  },
  {
   "cell_type": "code",
   "execution_count": null,
   "metadata": {
    "collapsed": false,
    "deletable": true,
    "editable": true
   },
   "outputs": [],
   "source": [
    "test_arr = [x/3600. for x in t_c_arr]\n",
    "print(*test_arr, sep=' ')"
   ]
  },
  {
   "cell_type": "markdown",
   "metadata": {
    "collapsed": true,
    "deletable": true,
    "editable": true
   },
   "source": [
    "## Get Stats of Lab Posts"
   ]
  },
  {
   "cell_type": "code",
   "execution_count": null,
   "metadata": {
    "collapsed": false,
    "deletable": true,
    "editable": true
   },
   "outputs": [],
   "source": [
    "[idx_start,idx_end,tag] = [0,3300,lab]\n",
    "\n",
    "t_c_arr = []\n",
    "t_last = 0\n",
    "\n",
    "start_time = time.time()\n",
    "\n",
    "for i in range(idx_start,idx_end):\n",
    "    t_cur = get_timing(i,tag)\n",
    "    if (t_cur != None):\n",
    "        if (t_last == 0):\n",
    "            t_last = t_cur[0]\n",
    "        t_c_arr.append(t_cur[0]-t_last)\n",
    "        t_last = t_cur[0]\n",
    "\n",
    "print(\"--- %s seconds ---\\n\" % (time.time() - start_time))"
   ]
  },
  {
   "cell_type": "code",
   "execution_count": null,
   "metadata": {
    "collapsed": false,
    "deletable": true,
    "editable": true
   },
   "outputs": [],
   "source": [
    "lab_arr = [x/3600. for x in t_c_arr]\n",
    "print(*lab_arr, sep=' ')"
   ]
  },
  {
   "cell_type": "markdown",
   "metadata": {
    "collapsed": true,
    "deletable": true,
    "editable": true
   },
   "source": [
    "## Get Stats of MP Posts"
   ]
  },
  {
   "cell_type": "code",
   "execution_count": null,
   "metadata": {
    "collapsed": false,
    "deletable": true,
    "editable": true
   },
   "outputs": [],
   "source": [
    "[idx_start,idx_end,tag] = [0,3300,mp]\n",
    "\n",
    "t_c_arr = []\n",
    "t_last = 0\n",
    "\n",
    "start_time = time.time()\n",
    "\n",
    "for i in range(idx_start,idx_end):\n",
    "    t_cur = get_timing(i,tag)\n",
    "    if (t_cur != None):\n",
    "        if (t_last == 0):\n",
    "            t_last = t_cur[0]\n",
    "        t_c_arr.append(t_cur[0]-t_last)\n",
    "        t_last = t_cur[0]\n",
    "\n",
    "print(\"--- %s seconds ---\\n\" % (time.time() - start_time))"
   ]
  },
  {
   "cell_type": "code",
   "execution_count": null,
   "metadata": {
    "collapsed": false,
    "deletable": true,
    "editable": true
   },
   "outputs": [],
   "source": [
    "mp_arr = [x/3600. for x in t_c_arr]\n",
    "print(*mp_arr, sep=' ')"
   ]
  },
  {
   "cell_type": "markdown",
   "metadata": {
    "deletable": true,
    "editable": true
   },
   "source": [
    "## Get Stats of All Posts"
   ]
  },
  {
   "cell_type": "code",
   "execution_count": null,
   "metadata": {
    "collapsed": false,
    "deletable": true,
    "editable": true
   },
   "outputs": [],
   "source": [
    "[idx_start,idx_end,tag] = [0,3300,None]\n",
    "\n",
    "t_c_arr = []\n",
    "t_last = 0\n",
    "\n",
    "start_time = time.time()\n",
    "\n",
    "for i in range(idx_start,idx_end):\n",
    "    t_cur = get_timing(i,tag)\n",
    "    if (t_cur != None):\n",
    "        if (t_last == 0):\n",
    "            t_last = t_cur[0]\n",
    "        t_c_arr.append(t_cur[0]-t_last)\n",
    "        t_last = t_cur[0]\n",
    "\n",
    "print(\"--- %s seconds ---\\n\" % (time.time() - start_time))"
   ]
  },
  {
   "cell_type": "code",
   "execution_count": null,
   "metadata": {
    "collapsed": false,
    "deletable": true,
    "editable": true
   },
   "outputs": [],
   "source": [
    "arr = [x/3600. for x in t_c_arr]\n",
    "print(*arr, sep=' ')"
   ]
  },
  {
   "cell_type": "code",
   "execution_count": null,
   "metadata": {
    "collapsed": false,
    "deletable": true,
    "editable": true
   },
   "outputs": [],
   "source": [
    "sum(arr)"
   ]
  },
  {
   "cell_type": "code",
   "execution_count": null,
   "metadata": {
    "collapsed": false,
    "deletable": true,
    "editable": true
   },
   "outputs": [],
   "source": [
    "len(arr)"
   ]
  },
  {
   "cell_type": "markdown",
   "metadata": {
    "deletable": true,
    "editable": true
   },
   "source": [
    "## Instructor Answers"
   ]
  },
  {
   "cell_type": "code",
   "execution_count": null,
   "metadata": {
    "collapsed": false,
    "deletable": true,
    "editable": true
   },
   "outputs": [],
   "source": [
    "[idx_start,idx_end,tag] = [1,3200,None]\n",
    "\n",
    "t_i_arr = []\n",
    "\n",
    "start_time = time.time()\n",
    "\n",
    "for i in range(idx_start,idx_end):\n",
    "    t_cur = get_latency(i,tag)\n",
    "    if (t_cur != None):\n",
    "        if (t_cur[2] != -1):\n",
    "            t_i_arr.append(t_cur[2])\n",
    "\n",
    "print(\"--- %s seconds ---\\n\" % (time.time() - start_time))"
   ]
  },
  {
   "cell_type": "code",
   "execution_count": null,
   "metadata": {
    "collapsed": false,
    "deletable": true,
    "editable": true
   },
   "outputs": [],
   "source": [
    "fig, ax = plt.subplots(figsize=(11,8))\n",
    "sns.distplot(sorted(t_i_arr)[0:-100], kde=False, rug=True, ax=ax, fit=stats.lognorm, label = \"Instructor answers\")\n",
    "ax.set_xlim([-10,50000])\n",
    "ax.set_xlabel('Time (seconds)', fontsize=14)\n",
    "ax.set_ylabel('Density of answers', fontsize=14)\n",
    "ax.set_title('Rug plot with histo and lognormal fit for answer arrival time', fontsize=14)\n",
    "plt.legend();"
   ]
  },
  {
   "cell_type": "code",
   "execution_count": null,
   "metadata": {
    "collapsed": false,
    "deletable": true,
    "editable": true
   },
   "outputs": [],
   "source": [
    "print(sorted(t_i_arr))"
   ]
  },
  {
   "cell_type": "markdown",
   "metadata": {
    "deletable": true,
    "editable": true
   },
   "source": [
    "## Fit, Validate Distribution, then create random variables"
   ]
  },
  {
   "cell_type": "code",
   "execution_count": null,
   "metadata": {
    "collapsed": false,
    "deletable": true,
    "editable": true
   },
   "outputs": [],
   "source": [
    "shape, loc, scale = stats.lognorm.fit(t_i_arr)\n",
    "print(shape, loc, scale)"
   ]
  },
  {
   "cell_type": "code",
   "execution_count": null,
   "metadata": {
    "collapsed": false,
    "deletable": true,
    "editable": true
   },
   "outputs": [],
   "source": [
    "stats.kstest(t_i_arr,'lognorm',args=(shape, loc, scale))"
   ]
  },
  {
   "cell_type": "code",
   "execution_count": null,
   "metadata": {
    "collapsed": false,
    "deletable": true,
    "editable": true
   },
   "outputs": [],
   "source": [
    "len(t_i_arr)"
   ]
  },
  {
   "cell_type": "code",
   "execution_count": null,
   "metadata": {
    "collapsed": false,
    "deletable": true,
    "editable": true
   },
   "outputs": [],
   "source": [
    "1.36/np.sqrt(1444)"
   ]
  },
  {
   "cell_type": "code",
   "execution_count": null,
   "metadata": {
    "collapsed": false,
    "deletable": true,
    "editable": true
   },
   "outputs": [],
   "source": [
    "l_ti = [np.log(x) for x in t_i_arr]"
   ]
  },
  {
   "cell_type": "code",
   "execution_count": null,
   "metadata": {
    "collapsed": false,
    "deletable": true,
    "editable": true
   },
   "outputs": [],
   "source": [
    "fig, ax = plt.subplots(figsize=(11,8))\n",
    "sns.distplot(sorted(l_ti)[0:-100], kde=True, rug=True, ax=ax, fit=stats.norm, label = \"Instructor answers\")\n",
    "#ax.set_xlim([-10,1000])\n",
    "ax.set_xlabel('Time', fontsize=14)\n",
    "ax.set_ylabel('Density', fontsize=14)\n",
    "ax.set_title('Kernel density estimation and normal fit for log(answer arrival time)', fontsize=14)\n",
    "plt.legend();"
   ]
  },
  {
   "cell_type": "code",
   "execution_count": null,
   "metadata": {
    "collapsed": true,
    "deletable": true,
    "editable": true
   },
   "outputs": [],
   "source": [
    "i_a_rv = stats.lognorm.rvs(shape, loc, scale, 2500, random_state = 12345)"
   ]
  },
  {
   "cell_type": "code",
   "execution_count": null,
   "metadata": {
    "collapsed": false,
    "deletable": true,
    "editable": true
   },
   "outputs": [],
   "source": [
    "rv = [x/3600. for x in i_a_rv]\n",
    "print(*rv, sep=' ')"
   ]
  },
  {
   "cell_type": "markdown",
   "metadata": {
    "deletable": true,
    "editable": true
   },
   "source": [
    "## Daily distribution (post)"
   ]
  },
  {
   "cell_type": "code",
   "execution_count": null,
   "metadata": {
    "collapsed": false,
    "deletable": true,
    "editable": true
   },
   "outputs": [],
   "source": [
    "[idx_start,idx_end] = [1,400]\n",
    "\n",
    "t_h_arr = []\n",
    "t_last = 0\n",
    "\n",
    "start_time = time.time()\n",
    "\n",
    "for i in range(idx_start,idx_end):\n",
    "    t_cur = get_daily_timing(i)\n",
    "    if (t_cur != None):\n",
    "        t_h_arr.append(t_cur[0])\n",
    "\n",
    "print(\"--- %s seconds ---\\n\" % (time.time() - start_time))"
   ]
  },
  {
   "cell_type": "markdown",
   "metadata": {
    "deletable": true,
    "editable": true
   },
   "source": [
    "## Percent of post answered by students"
   ]
  },
  {
   "cell_type": "code",
   "execution_count": null,
   "metadata": {
    "collapsed": true,
    "deletable": true,
    "editable": true
   },
   "outputs": [],
   "source": [
    "def get_percent_answered_by_student_and_not_inst(cid,tag = None):\n",
    "    try:\n",
    "        post = p.content_get(cid)\n",
    "        if (post[\"type\"] != \"question\"):\n",
    "            return None # if not a question, ignore\n",
    "        c_time = to_time(post['created']) # time thread is created\n",
    "        bs = 0\n",
    "        bi = 0\n",
    "        for x in post[\"children\"]:\n",
    "            if (x[\"type\"]==\"s_answer\"):\n",
    "                bs = 1\n",
    "            if (x[\"type\"]==\"i_answer\"):\n",
    "                bi = 1\n",
    "        return bs*(1-bi)\n",
    "    except:\n",
    "        pass # if post does not exist, ignore"
   ]
  },
  {
   "cell_type": "code",
   "execution_count": null,
   "metadata": {
    "collapsed": false,
    "deletable": true,
    "editable": true
   },
   "outputs": [],
   "source": [
    "[idx_start,idx_end,tag] = [1,3200,None]\n",
    "\n",
    "b_s_arr = []\n",
    "\n",
    "start_time = time.time()\n",
    "\n",
    "for i in range(idx_start,idx_end):\n",
    "    t_cur = get_percent_answered_by_student_and_not_inst(i,tag)\n",
    "    if (t_cur != None):\n",
    "        if (t_cur != []):\n",
    "            b_s_arr.append(t_cur)\n",
    "\n",
    "print(\"--- %s seconds ---\\n\" % (time.time() - start_time))"
   ]
  },
  {
   "cell_type": "code",
   "execution_count": null,
   "metadata": {
    "collapsed": false,
    "deletable": true,
    "editable": true
   },
   "outputs": [],
   "source": [
    "sum(b_s_arr)/len(b_s_arr)"
   ]
  },
  {
   "cell_type": "markdown",
   "metadata": {
    "deletable": true,
    "editable": true
   },
   "source": [
    "## Student Answers"
   ]
  },
  {
   "cell_type": "code",
   "execution_count": null,
   "metadata": {
    "collapsed": false,
    "deletable": true,
    "editable": true
   },
   "outputs": [],
   "source": [
    "[idx_start,idx_end,tag] = [1,3200,None]\n",
    "\n",
    "t_i_arr = []\n",
    "\n",
    "start_time = time.time()\n",
    "\n",
    "for i in range(idx_start,idx_end):\n",
    "    t_cur = get_latency(i,tag)\n",
    "    if (t_cur != None):\n",
    "        if (t_cur[1] != -1):\n",
    "            t_i_arr.append(t_cur[1])\n",
    "\n",
    "print(\"--- %s seconds ---\\n\" % (time.time() - start_time))"
   ]
  },
  {
   "cell_type": "code",
   "execution_count": null,
   "metadata": {
    "collapsed": false,
    "deletable": true,
    "editable": true
   },
   "outputs": [],
   "source": [
    "fig, ax = plt.subplots(figsize=(11,8))\n",
    "sns.distplot(sorted(t_i_arr)[0:-100], kde=False, rug=True, ax=ax, fit=stats.lognorm, label = \"Student answers\")\n",
    "#ax.set_xlim([-10,1000])\n",
    "ax.set_xlabel('Time (seconds)', fontsize=14)\n",
    "ax.set_ylabel('Density of answers', fontsize=14)\n",
    "ax.set_title('Rug plot with histo and lognormal fit for answer arrival time', fontsize=14)\n",
    "plt.legend();"
   ]
  },
  {
   "cell_type": "markdown",
   "metadata": {
    "collapsed": true,
    "deletable": true,
    "editable": true
   },
   "source": [
    "## Fit, Validate Distribution, then create random variables"
   ]
  },
  {
   "cell_type": "code",
   "execution_count": null,
   "metadata": {
    "collapsed": false,
    "deletable": true,
    "editable": true
   },
   "outputs": [],
   "source": [
    "shape, loc, scale = stats.lognorm.fit(t_i_arr)\n",
    "print(shape, loc, scale)"
   ]
  },
  {
   "cell_type": "code",
   "execution_count": null,
   "metadata": {
    "collapsed": false,
    "deletable": true,
    "editable": true
   },
   "outputs": [],
   "source": [
    "stats.kstest(t_i_arr,'lognorm',args=(shape, loc, scale))"
   ]
  },
  {
   "cell_type": "code",
   "execution_count": null,
   "metadata": {
    "collapsed": false,
    "deletable": true,
    "editable": true
   },
   "outputs": [],
   "source": [
    "len(t_i_arr)"
   ]
  },
  {
   "cell_type": "code",
   "execution_count": null,
   "metadata": {
    "collapsed": false,
    "deletable": true,
    "editable": true
   },
   "outputs": [],
   "source": [
    "1.36/np.sqrt(1102)"
   ]
  },
  {
   "cell_type": "code",
   "execution_count": null,
   "metadata": {
    "collapsed": true,
    "deletable": true,
    "editable": true
   },
   "outputs": [],
   "source": [
    "s_a_rv = stats.lognorm.rvs(shape, loc, scale, 2500, random_state = 12345)"
   ]
  },
  {
   "cell_type": "code",
   "execution_count": null,
   "metadata": {
    "collapsed": false,
    "deletable": true,
    "editable": true
   },
   "outputs": [],
   "source": [
    "rv = [x/3600. for x in i_a_rv]\n",
    "print(*rv, sep=' ')"
   ]
  },
  {
   "cell_type": "code",
   "execution_count": null,
   "metadata": {
    "collapsed": false,
    "deletable": true,
    "editable": true
   },
   "outputs": [],
   "source": [
    "shape, loc, scale = stats.lognorm.fit(rv)\n",
    "print(shape, loc, scale)"
   ]
  }
 ],
 "metadata": {
  "kernelspec": {
   "display_name": "Python 3",
   "language": "python",
   "name": "python3"
  },
  "language_info": {
   "codemirror_mode": {
    "name": "ipython",
    "version": 3
   },
   "file_extension": ".py",
   "mimetype": "text/x-python",
   "name": "python",
   "nbconvert_exporter": "python",
   "pygments_lexer": "ipython3",
   "version": "3.5.2"
  }
 },
 "nbformat": 4,
 "nbformat_minor": 2
}
